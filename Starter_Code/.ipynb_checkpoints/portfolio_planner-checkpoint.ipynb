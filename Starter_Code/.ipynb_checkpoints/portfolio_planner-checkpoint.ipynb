{
 "cells": [
  {
   "cell_type": "code",
   "execution_count": 524,
   "metadata": {},
   "outputs": [],
   "source": [
    "# Import libraries and dependencies\n",
    "import numpy as np\n",
    "import pandas as pd\n",
    "import os\n",
    "from datetime import datetime, timedelta\n",
    "import matplotlib.pyplot as plt\n",
    "import alpaca_trade_api as tradeapi\n",
    "%matplotlib inline"
   ]
  },
  {
   "cell_type": "code",
   "execution_count": 525,
   "metadata": {},
   "outputs": [],
   "source": [
    "np.random.seed(42)"
   ]
  },
  {
   "cell_type": "markdown",
   "metadata": {},
   "source": [
    "# Portfolio Planner\n",
    "\n",
    "In this activity, you will use the Alpaca api to grab historical data for a 60/40 portfolio using `SPY` to represent the stock portion and `AGG` to represent the bonds."
   ]
  },
  {
   "cell_type": "code",
   "execution_count": 526,
   "metadata": {},
   "outputs": [],
   "source": [
    "# Load .env enviroment variables\n",
    "from dotenv import load_dotenv\n",
    "load_dotenv()\n",
    "\n",
    "# Set Alpaca API key and secret\n",
    "alpaca_api_key = os.getenv(\"ALPACA_API_KEY\")\n",
    "alpaca_secret_key = os.getenv(\"ALPACA_SECRET_KEY\")\n",
    "\n",
    "# api = tradeapi.REST()\n",
    "api = tradeapi.REST(alpaca_api_key, alpaca_secret_key, api_version='v2')"
   ]
  },
  {
   "cell_type": "markdown",
   "metadata": {},
   "source": [
    "# Data Collection\n",
    "\n",
    "In this step, you will need to use the Alpaca api to fetch closing prices for the `SPY` and `AGG` tickers. Save the results as a pandas DataFrame"
   ]
  },
  {
   "cell_type": "code",
   "execution_count": 527,
   "metadata": {},
   "outputs": [
    {
     "data": {
      "text/html": [
       "<div>\n",
       "<style scoped>\n",
       "    .dataframe tbody tr th:only-of-type {\n",
       "        vertical-align: middle;\n",
       "    }\n",
       "\n",
       "    .dataframe tbody tr th {\n",
       "        vertical-align: top;\n",
       "    }\n",
       "\n",
       "    .dataframe thead tr th {\n",
       "        text-align: left;\n",
       "    }\n",
       "</style>\n",
       "<table border=\"1\" class=\"dataframe\">\n",
       "  <thead>\n",
       "    <tr>\n",
       "      <th></th>\n",
       "      <th colspan=\"5\" halign=\"left\">AGG</th>\n",
       "      <th colspan=\"5\" halign=\"left\">SPY</th>\n",
       "    </tr>\n",
       "    <tr>\n",
       "      <th></th>\n",
       "      <th>open</th>\n",
       "      <th>high</th>\n",
       "      <th>low</th>\n",
       "      <th>close</th>\n",
       "      <th>volume</th>\n",
       "      <th>open</th>\n",
       "      <th>high</th>\n",
       "      <th>low</th>\n",
       "      <th>close</th>\n",
       "      <th>volume</th>\n",
       "    </tr>\n",
       "  </thead>\n",
       "  <tbody>\n",
       "    <tr>\n",
       "      <th>2019-01-02 00:00:00-05:00</th>\n",
       "      <td>106.55</td>\n",
       "      <td>106.610</td>\n",
       "      <td>106.4701</td>\n",
       "      <td>106.585</td>\n",
       "      <td>10164756</td>\n",
       "      <td>245.98</td>\n",
       "      <td>251.21</td>\n",
       "      <td>245.95</td>\n",
       "      <td>249.89</td>\n",
       "      <td>107236613</td>\n",
       "    </tr>\n",
       "    <tr>\n",
       "      <th>2019-01-03 00:00:00-05:00</th>\n",
       "      <td>106.57</td>\n",
       "      <td>107.075</td>\n",
       "      <td>106.5700</td>\n",
       "      <td>107.020</td>\n",
       "      <td>6260265</td>\n",
       "      <td>248.23</td>\n",
       "      <td>248.57</td>\n",
       "      <td>244.03</td>\n",
       "      <td>244.46</td>\n",
       "      <td>113782919</td>\n",
       "    </tr>\n",
       "    <tr>\n",
       "      <th>2019-01-04 00:00:00-05:00</th>\n",
       "      <td>106.66</td>\n",
       "      <td>106.720</td>\n",
       "      <td>106.5500</td>\n",
       "      <td>106.695</td>\n",
       "      <td>7755476</td>\n",
       "      <td>247.59</td>\n",
       "      <td>253.11</td>\n",
       "      <td>247.17</td>\n",
       "      <td>252.41</td>\n",
       "      <td>122528832</td>\n",
       "    </tr>\n",
       "    <tr>\n",
       "      <th>2019-01-07 00:00:00-05:00</th>\n",
       "      <td>106.72</td>\n",
       "      <td>106.790</td>\n",
       "      <td>106.4600</td>\n",
       "      <td>106.470</td>\n",
       "      <td>6545877</td>\n",
       "      <td>252.69</td>\n",
       "      <td>255.95</td>\n",
       "      <td>251.69</td>\n",
       "      <td>254.40</td>\n",
       "      <td>88317608</td>\n",
       "    </tr>\n",
       "    <tr>\n",
       "      <th>2019-01-08 00:00:00-05:00</th>\n",
       "      <td>106.40</td>\n",
       "      <td>106.530</td>\n",
       "      <td>105.5300</td>\n",
       "      <td>106.420</td>\n",
       "      <td>3818241</td>\n",
       "      <td>256.82</td>\n",
       "      <td>257.31</td>\n",
       "      <td>254.00</td>\n",
       "      <td>256.65</td>\n",
       "      <td>88864452</td>\n",
       "    </tr>\n",
       "  </tbody>\n",
       "</table>\n",
       "</div>"
      ],
      "text/plain": [
       "                              AGG                                        \\\n",
       "                             open     high       low    close    volume   \n",
       "2019-01-02 00:00:00-05:00  106.55  106.610  106.4701  106.585  10164756   \n",
       "2019-01-03 00:00:00-05:00  106.57  107.075  106.5700  107.020   6260265   \n",
       "2019-01-04 00:00:00-05:00  106.66  106.720  106.5500  106.695   7755476   \n",
       "2019-01-07 00:00:00-05:00  106.72  106.790  106.4600  106.470   6545877   \n",
       "2019-01-08 00:00:00-05:00  106.40  106.530  105.5300  106.420   3818241   \n",
       "\n",
       "                              SPY                                     \n",
       "                             open    high     low   close     volume  \n",
       "2019-01-02 00:00:00-05:00  245.98  251.21  245.95  249.89  107236613  \n",
       "2019-01-03 00:00:00-05:00  248.23  248.57  244.03  244.46  113782919  \n",
       "2019-01-04 00:00:00-05:00  247.59  253.11  247.17  252.41  122528832  \n",
       "2019-01-07 00:00:00-05:00  252.69  255.95  251.69  254.40   88317608  \n",
       "2019-01-08 00:00:00-05:00  256.82  257.31  254.00  256.65   88864452  "
      ]
     },
     "execution_count": 527,
     "metadata": {},
     "output_type": "execute_result"
    }
   ],
   "source": [
    "list_of_tickers = [\"SPY\", \"AGG\"]\n",
    "\n",
    "# Set timeframe to '1D' i.e. everyday\n",
    "timeframe = '1D'\n",
    "\n",
    "# Set start and end datetimes of 1 year, between now and 365 days ago.\n",
    "# end_date = datetime.now()\n",
    "# start_date = end_date + timedelta(-365)\n",
    "\n",
    "# Alpeca has an issue with getting less than 5 mo. data\n",
    "start_date = pd.Timestamp('2019-01-01', tz='America/New_York').isoformat()\n",
    "end_date = pd.Timestamp('2019-12-31', tz='America/New_York').isoformat()\n",
    "\n",
    "# Get 1 year's worth of historical data for TSLA\n",
    "df = api.get_barset(\n",
    "    list_of_tickers,\n",
    "    timeframe,\n",
    "    limit=None,\n",
    "    start=start_date,\n",
    "    end=end_date,\n",
    "    after=None,\n",
    "    until=None,\n",
    ").df\n",
    "\n",
    "df.head()\n",
    "\n"
   ]
  },
  {
   "cell_type": "code",
   "execution_count": 528,
   "metadata": {},
   "outputs": [
    {
     "data": {
      "text/html": [
       "<div>\n",
       "<style scoped>\n",
       "    .dataframe tbody tr th:only-of-type {\n",
       "        vertical-align: middle;\n",
       "    }\n",
       "\n",
       "    .dataframe tbody tr th {\n",
       "        vertical-align: top;\n",
       "    }\n",
       "\n",
       "    .dataframe thead th {\n",
       "        text-align: right;\n",
       "    }\n",
       "</style>\n",
       "<table border=\"1\" class=\"dataframe\">\n",
       "  <thead>\n",
       "    <tr style=\"text-align: right;\">\n",
       "      <th></th>\n",
       "      <th>AGG</th>\n",
       "      <th>SPY</th>\n",
       "    </tr>\n",
       "  </thead>\n",
       "  <tbody>\n",
       "    <tr>\n",
       "      <th>2019-12-24</th>\n",
       "      <td>112.375</td>\n",
       "      <td>321.26</td>\n",
       "    </tr>\n",
       "    <tr>\n",
       "      <th>2019-12-26</th>\n",
       "      <td>112.480</td>\n",
       "      <td>322.91</td>\n",
       "    </tr>\n",
       "    <tr>\n",
       "      <th>2019-12-27</th>\n",
       "      <td>112.620</td>\n",
       "      <td>322.86</td>\n",
       "    </tr>\n",
       "    <tr>\n",
       "      <th>2019-12-30</th>\n",
       "      <td>112.630</td>\n",
       "      <td>321.10</td>\n",
       "    </tr>\n",
       "    <tr>\n",
       "      <th>2019-12-31</th>\n",
       "      <td>112.370</td>\n",
       "      <td>321.92</td>\n",
       "    </tr>\n",
       "  </tbody>\n",
       "</table>\n",
       "</div>"
      ],
      "text/plain": [
       "                AGG     SPY\n",
       "2019-12-24  112.375  321.26\n",
       "2019-12-26  112.480  322.91\n",
       "2019-12-27  112.620  322.86\n",
       "2019-12-30  112.630  321.10\n",
       "2019-12-31  112.370  321.92"
      ]
     },
     "execution_count": 528,
     "metadata": {},
     "output_type": "execute_result"
    }
   ],
   "source": [
    "# Clean up Data\n",
    "\n",
    "# Drop Outer Table Level\n",
    "df = df.droplevel(axis=1, level=0)\n",
    "\n",
    "# Use the drop function to drop extra columns\n",
    "df.drop(columns=['open', 'high', 'low', 'volume'], inplace=True)\n",
    "\n",
    "# Since this is daily data, we can keep only the date (remove the time) component of the data\n",
    "df.index = df.index.date\n",
    "df.sort_index(inplace=True)\n",
    "df.columns = [\"AGG\",\"SPY\"]\n",
    "df.tail()\n"
   ]
  },
  {
   "cell_type": "markdown",
   "metadata": {},
   "source": [
    "# Monte Carlo Simulation\n",
    "\n",
    "In this step, you will run Monte Carlo Simulations for your portfolio to model portfolio performance at different retirement ages. \n",
    "\n",
    "Complete the following steps:\n",
    "1. Calculate the daily returns for the SPY and AGG closing prices.\n",
    "2. Calculate volatility for both the SPY and AGG closing prices.\n",
    "3. Find the last day's closing price for both stocks and save those as variables.\n",
    "4. Run a Monte Carlo Simulation of at least 500 iterations and generate at least 30 years of closing prices\n",
    "\n",
    "### HINTS:\n",
    "There are 252 trading days per year, so the number of records to generate for each Monte Carlo run will be 252 days * 30 years"
   ]
  },
  {
   "cell_type": "code",
   "execution_count": 529,
   "metadata": {},
   "outputs": [
    {
     "data": {
      "text/html": [
       "<div>\n",
       "<style scoped>\n",
       "    .dataframe tbody tr th:only-of-type {\n",
       "        vertical-align: middle;\n",
       "    }\n",
       "\n",
       "    .dataframe tbody tr th {\n",
       "        vertical-align: top;\n",
       "    }\n",
       "\n",
       "    .dataframe thead th {\n",
       "        text-align: right;\n",
       "    }\n",
       "</style>\n",
       "<table border=\"1\" class=\"dataframe\">\n",
       "  <thead>\n",
       "    <tr style=\"text-align: right;\">\n",
       "      <th></th>\n",
       "      <th>AGG</th>\n",
       "      <th>SPY</th>\n",
       "    </tr>\n",
       "  </thead>\n",
       "  <tbody>\n",
       "    <tr>\n",
       "      <th>2019-01-03</th>\n",
       "      <td>0.004081</td>\n",
       "      <td>-0.021730</td>\n",
       "    </tr>\n",
       "    <tr>\n",
       "      <th>2019-01-04</th>\n",
       "      <td>-0.003037</td>\n",
       "      <td>0.032521</td>\n",
       "    </tr>\n",
       "    <tr>\n",
       "      <th>2019-01-07</th>\n",
       "      <td>-0.002109</td>\n",
       "      <td>0.007884</td>\n",
       "    </tr>\n",
       "    <tr>\n",
       "      <th>2019-01-08</th>\n",
       "      <td>-0.000470</td>\n",
       "      <td>0.008844</td>\n",
       "    </tr>\n",
       "    <tr>\n",
       "      <th>2019-01-09</th>\n",
       "      <td>0.000564</td>\n",
       "      <td>0.004130</td>\n",
       "    </tr>\n",
       "  </tbody>\n",
       "</table>\n",
       "</div>"
      ],
      "text/plain": [
       "                 AGG       SPY\n",
       "2019-01-03  0.004081 -0.021730\n",
       "2019-01-04 -0.003037  0.032521\n",
       "2019-01-07 -0.002109  0.007884\n",
       "2019-01-08 -0.000470  0.008844\n",
       "2019-01-09  0.000564  0.004130"
      ]
     },
     "execution_count": 529,
     "metadata": {},
     "output_type": "execute_result"
    }
   ],
   "source": [
    "# Calculate the daily roi for the stocks\n",
    "\n",
    "daily_returns = df.pct_change()\n",
    "daily_returns.dropna(inplace = True)\n",
    "\n",
    "avg_daily_return_spy = daily_returns.mean()['AGG']\n",
    "avg_daily_return_agg = daily_returns.mean()['SPY']\n",
    "\n",
    "daily_returns.head()"
   ]
  },
  {
   "cell_type": "code",
   "execution_count": 530,
   "metadata": {},
   "outputs": [],
   "source": [
    "# Calculate volatility\n",
    "\n",
    "std_dev_daily_return_spy = daily_returns['SPY'].std()\n",
    "std_dev_daily_return_agg = daily_returns['AGG'].std()\n"
   ]
  },
  {
   "cell_type": "code",
   "execution_count": 531,
   "metadata": {},
   "outputs": [],
   "source": [
    "# Save the last day's closing price\n",
    "\n",
    "spy_last_closing = df['SPY'][-1]\n",
    "agg_last_closing = df['AGG'][-1]\n"
   ]
  },
  {
   "cell_type": "code",
   "execution_count": 532,
   "metadata": {},
   "outputs": [],
   "source": [
    "# Setup the Monte Carlo Parameters\n",
    "number_simulations = 500\n",
    "number_records = 252 * 30\n",
    "\n",
    "\n",
    "monte_carlo = pd.DataFrame()\n",
    "\n",
    "# Initialize empty DataFrame to hold simulated prices for each simulation\n",
    "simulated_price_df = pd.DataFrame()\n",
    "portfolio_cumulative_returns = pd.DataFrame()\n"
   ]
  },
  {
   "cell_type": "code",
   "execution_count": 540,
   "metadata": {},
   "outputs": [
    {
     "data": {
      "text/html": [
       "<div>\n",
       "<style scoped>\n",
       "    .dataframe tbody tr th:only-of-type {\n",
       "        vertical-align: middle;\n",
       "    }\n",
       "\n",
       "    .dataframe tbody tr th {\n",
       "        vertical-align: top;\n",
       "    }\n",
       "\n",
       "    .dataframe thead th {\n",
       "        text-align: right;\n",
       "    }\n",
       "</style>\n",
       "<table border=\"1\" class=\"dataframe\">\n",
       "  <thead>\n",
       "    <tr style=\"text-align: right;\">\n",
       "      <th></th>\n",
       "      <th>Simulation 0</th>\n",
       "      <th>Simulation 1</th>\n",
       "      <th>Simulation 2</th>\n",
       "      <th>Simulation 3</th>\n",
       "      <th>Simulation 4</th>\n",
       "      <th>Simulation 5</th>\n",
       "      <th>Simulation 6</th>\n",
       "      <th>Simulation 7</th>\n",
       "      <th>Simulation 8</th>\n",
       "      <th>Simulation 9</th>\n",
       "      <th>...</th>\n",
       "      <th>Simulation 490</th>\n",
       "      <th>Simulation 491</th>\n",
       "      <th>Simulation 492</th>\n",
       "      <th>Simulation 493</th>\n",
       "      <th>Simulation 494</th>\n",
       "      <th>Simulation 495</th>\n",
       "      <th>Simulation 496</th>\n",
       "      <th>Simulation 497</th>\n",
       "      <th>Simulation 498</th>\n",
       "      <th>Simulation 499</th>\n",
       "    </tr>\n",
       "  </thead>\n",
       "  <tbody>\n",
       "    <tr>\n",
       "      <th>0</th>\n",
       "      <td>1.000000</td>\n",
       "      <td>1.000000</td>\n",
       "      <td>1.000000</td>\n",
       "      <td>1.000000</td>\n",
       "      <td>1.000000</td>\n",
       "      <td>1.000000</td>\n",
       "      <td>1.000000</td>\n",
       "      <td>1.000000</td>\n",
       "      <td>1.000000</td>\n",
       "      <td>1.000000</td>\n",
       "      <td>...</td>\n",
       "      <td>1.000000</td>\n",
       "      <td>1.000000</td>\n",
       "      <td>1.000000</td>\n",
       "      <td>1.000000</td>\n",
       "      <td>1.000000</td>\n",
       "      <td>1.000000</td>\n",
       "      <td>1.000000</td>\n",
       "      <td>1.000000</td>\n",
       "      <td>1.000000</td>\n",
       "      <td>1.000000</td>\n",
       "    </tr>\n",
       "    <tr>\n",
       "      <th>1</th>\n",
       "      <td>0.997983</td>\n",
       "      <td>0.999303</td>\n",
       "      <td>1.004494</td>\n",
       "      <td>1.004243</td>\n",
       "      <td>0.998572</td>\n",
       "      <td>1.000495</td>\n",
       "      <td>1.001403</td>\n",
       "      <td>1.005409</td>\n",
       "      <td>0.999686</td>\n",
       "      <td>1.006102</td>\n",
       "      <td>...</td>\n",
       "      <td>1.001564</td>\n",
       "      <td>1.001799</td>\n",
       "      <td>0.997141</td>\n",
       "      <td>0.999714</td>\n",
       "      <td>0.988505</td>\n",
       "      <td>1.005558</td>\n",
       "      <td>1.001379</td>\n",
       "      <td>0.993825</td>\n",
       "      <td>1.011913</td>\n",
       "      <td>0.998141</td>\n",
       "    </tr>\n",
       "    <tr>\n",
       "      <th>2</th>\n",
       "      <td>0.998154</td>\n",
       "      <td>0.995171</td>\n",
       "      <td>1.011268</td>\n",
       "      <td>1.001827</td>\n",
       "      <td>0.998462</td>\n",
       "      <td>0.999749</td>\n",
       "      <td>1.002771</td>\n",
       "      <td>1.009956</td>\n",
       "      <td>1.001333</td>\n",
       "      <td>1.006153</td>\n",
       "      <td>...</td>\n",
       "      <td>1.002843</td>\n",
       "      <td>0.996091</td>\n",
       "      <td>0.998877</td>\n",
       "      <td>0.994919</td>\n",
       "      <td>0.993928</td>\n",
       "      <td>1.004849</td>\n",
       "      <td>1.003129</td>\n",
       "      <td>1.005769</td>\n",
       "      <td>1.012060</td>\n",
       "      <td>0.990743</td>\n",
       "    </tr>\n",
       "    <tr>\n",
       "      <th>3</th>\n",
       "      <td>0.999283</td>\n",
       "      <td>0.995714</td>\n",
       "      <td>1.014579</td>\n",
       "      <td>0.992689</td>\n",
       "      <td>1.005595</td>\n",
       "      <td>1.002837</td>\n",
       "      <td>1.001733</td>\n",
       "      <td>1.014111</td>\n",
       "      <td>1.007804</td>\n",
       "      <td>1.003521</td>\n",
       "      <td>...</td>\n",
       "      <td>1.008715</td>\n",
       "      <td>0.996462</td>\n",
       "      <td>1.003855</td>\n",
       "      <td>1.001728</td>\n",
       "      <td>0.992201</td>\n",
       "      <td>0.999237</td>\n",
       "      <td>1.004319</td>\n",
       "      <td>1.008888</td>\n",
       "      <td>1.009425</td>\n",
       "      <td>0.993319</td>\n",
       "    </tr>\n",
       "    <tr>\n",
       "      <th>4</th>\n",
       "      <td>1.006338</td>\n",
       "      <td>0.994973</td>\n",
       "      <td>1.013278</td>\n",
       "      <td>0.991915</td>\n",
       "      <td>1.003490</td>\n",
       "      <td>1.001378</td>\n",
       "      <td>0.996330</td>\n",
       "      <td>1.012962</td>\n",
       "      <td>1.011896</td>\n",
       "      <td>0.998203</td>\n",
       "      <td>...</td>\n",
       "      <td>1.008269</td>\n",
       "      <td>0.992661</td>\n",
       "      <td>1.006684</td>\n",
       "      <td>1.002573</td>\n",
       "      <td>0.985683</td>\n",
       "      <td>1.000668</td>\n",
       "      <td>1.010904</td>\n",
       "      <td>1.008091</td>\n",
       "      <td>1.009001</td>\n",
       "      <td>0.998235</td>\n",
       "    </tr>\n",
       "  </tbody>\n",
       "</table>\n",
       "<p>5 rows × 500 columns</p>\n",
       "</div>"
      ],
      "text/plain": [
       "   Simulation 0  Simulation 1  Simulation 2  Simulation 3  Simulation 4  \\\n",
       "0      1.000000      1.000000      1.000000      1.000000      1.000000   \n",
       "1      0.997983      0.999303      1.004494      1.004243      0.998572   \n",
       "2      0.998154      0.995171      1.011268      1.001827      0.998462   \n",
       "3      0.999283      0.995714      1.014579      0.992689      1.005595   \n",
       "4      1.006338      0.994973      1.013278      0.991915      1.003490   \n",
       "\n",
       "   Simulation 5  Simulation 6  Simulation 7  Simulation 8  Simulation 9  ...  \\\n",
       "0      1.000000      1.000000      1.000000      1.000000      1.000000  ...   \n",
       "1      1.000495      1.001403      1.005409      0.999686      1.006102  ...   \n",
       "2      0.999749      1.002771      1.009956      1.001333      1.006153  ...   \n",
       "3      1.002837      1.001733      1.014111      1.007804      1.003521  ...   \n",
       "4      1.001378      0.996330      1.012962      1.011896      0.998203  ...   \n",
       "\n",
       "   Simulation 490  Simulation 491  Simulation 492  Simulation 493  \\\n",
       "0        1.000000        1.000000        1.000000        1.000000   \n",
       "1        1.001564        1.001799        0.997141        0.999714   \n",
       "2        1.002843        0.996091        0.998877        0.994919   \n",
       "3        1.008715        0.996462        1.003855        1.001728   \n",
       "4        1.008269        0.992661        1.006684        1.002573   \n",
       "\n",
       "   Simulation 494  Simulation 495  Simulation 496  Simulation 497  \\\n",
       "0        1.000000        1.000000        1.000000        1.000000   \n",
       "1        0.988505        1.005558        1.001379        0.993825   \n",
       "2        0.993928        1.004849        1.003129        1.005769   \n",
       "3        0.992201        0.999237        1.004319        1.008888   \n",
       "4        0.985683        1.000668        1.010904        1.008091   \n",
       "\n",
       "   Simulation 498  Simulation 499  \n",
       "0        1.000000        1.000000  \n",
       "1        1.011913        0.998141  \n",
       "2        1.012060        0.990743  \n",
       "3        1.009425        0.993319  \n",
       "4        1.009001        0.998235  \n",
       "\n",
       "[5 rows x 500 columns]"
      ]
     },
     "execution_count": 540,
     "metadata": {},
     "output_type": "execute_result"
    }
   ],
   "source": [
    "# Run the Monte Carlo Simulation\n",
    "for x in range(number_simulations):\n",
    "\n",
    "    # Initialize the simulated prices list with the last closing price of `SPY` and `AGG`\n",
    "    simulated_spy_prices = [spy_last_closing]\n",
    "    simulated_agg_prices = [agg_last_closing]\n",
    "    \n",
    "    # Simulate the returns for 252 * 30 days\n",
    "    for i in range(number_records):\n",
    "        \n",
    "        # Calculate the simulated price using the last price within the list\n",
    "        simulated_spy_price = simulated_spy_prices[-1] * (1 + np.random.normal(avg_daily_return_spy, std_dev_daily_return_spy))\n",
    "        simulated_agg_price = simulated_agg_prices[-1] * (1 + np.random.normal(avg_daily_return_agg, std_dev_daily_return_agg))\n",
    "        \n",
    "        # Append the simulated price to the list\n",
    "        simulated_spy_prices.append(simulated_spy_price)\n",
    "        simulated_agg_prices.append(simulated_agg_price)\n",
    "    \n",
    "    # Append a simulated prices of each simulation to DataFrame\n",
    "    simulated_price_df[\"SPY prices\"] = pd.Series(simulated_spy_prices)\n",
    "    simulated_price_df[\"AGG prices\"] = pd.Series(simulated_agg_prices)\n",
    "    \n",
    "    # Calculate the daily returns of simulated prices\n",
    "    simulated_daily_returns = simulated_price_df.pct_change()\n",
    "\n",
    "    # Set the portfolio weights (60% SPY; 40% AGG)\n",
    "    weights = [0.60, 0.40]\n",
    "\n",
    "    # Use the `dot` function with the weights to multiply weights with each column's simulated daily returns\n",
    "    portfolio_daily_returns = simulated_daily_returns.dot(weights)\n",
    "    \n",
    "    # Calculate the normalized, cumulative return series\n",
    "    portfolio_cumulative_returns[f'Simulation {x}'] = (1 + portfolio_daily_returns.fillna(0)).cumprod()\n",
    "\n",
    "# Print records from the DataFrame\n",
    "portfolio_cumulative_returns.head()\n",
    "    "
   ]
  },
  {
   "cell_type": "code",
   "execution_count": 541,
   "metadata": {},
   "outputs": [
    {
     "data": {
      "text/plain": [
       "<matplotlib.axes._subplots.AxesSubplot at 0x1b12db441c8>"
      ]
     },
     "execution_count": 541,
     "metadata": {},
     "output_type": "execute_result"
    },
    {
     "data": {
      "image/png": "[encoded data removed]",
      "text/plain": [
       "<Figure size 720x720 with 1 Axes>"
      ]
     },
     "metadata": {
      "needs_background": "light"
     },
     "output_type": "display_data"
    }
   ],
   "source": [
    "# Visualize the Simulation\n",
    "# Use the `plot` function to plot `500` simulations of the potential trajectories of the portfolio based on 252x30 trading days\n",
    "plot_title = \"Simulated Retirement Porfolio\"\n",
    "portfolio_cumulative_returns.plot(legend=None, title=plot_title, figsize=(10,10))\n"
   ]
  },
  {
   "cell_type": "code",
   "execution_count": 542,
   "metadata": {},
   "outputs": [
    {
     "data": {
      "text/plain": [
       "Simulation 495    51.899878\n",
       "Simulation 496    67.538089\n",
       "Simulation 497    91.579902\n",
       "Simulation 498    63.216577\n",
       "Simulation 499    24.970904\n",
       "Name: 7560, dtype: float64"
      ]
     },
     "execution_count": 542,
     "metadata": {},
     "output_type": "execute_result"
    }
   ],
   "source": [
    "# Select the last row for the cumulative returns (cumulative returns at 30 years)\n",
    "ending_cumulative_returns_30 = portfolio_cumulative_returns.iloc[-1, :]\n",
    "ending_cumulative_returns_30.tail()\n"
   ]
  },
  {
   "cell_type": "code",
   "execution_count": 543,
   "metadata": {},
   "outputs": [
    {
     "data": {
      "text/plain": [
       "Simulation 495    13.775803\n",
       "Simulation 496    16.371246\n",
       "Simulation 497    32.263526\n",
       "Simulation 498    19.062980\n",
       "Simulation 499     9.815445\n",
       "Name: 5040, dtype: float64"
      ]
     },
     "execution_count": 543,
     "metadata": {},
     "output_type": "execute_result"
    }
   ],
   "source": [
    "# Select the last row for the cumulative returns (cumulative returns at 20 years)\n",
    "ending_cumulative_returns_20 = portfolio_cumulative_returns.iloc[252*20, :]\n",
    "ending_cumulative_returns_20.tail()\n"
   ]
  },
  {
   "cell_type": "code",
   "execution_count": 544,
   "metadata": {},
   "outputs": [
    {
     "data": {
      "text/plain": [
       "0.05     27.601354\n",
       "0.95    114.040497\n",
       "Name: 7560, dtype: float64"
      ]
     },
     "execution_count": 544,
     "metadata": {},
     "output_type": "execute_result"
    }
   ],
   "source": [
    "# Display the 90% confidence interval for the ending returns\n",
    "confidence_interval = ending_cumulative_returns_30.quantile(q=[0.05, 0.95])\n",
    "confidence_interval\n"
   ]
  },
  {
   "cell_type": "code",
   "execution_count": 545,
   "metadata": {},
   "outputs": [
    {
     "data": {
      "text/plain": [
       "<matplotlib.lines.Line2D at 0x1b13c948088>"
      ]
     },
     "execution_count": 545,
     "metadata": {},
     "output_type": "execute_result"
    },
    {
     "data": {
      "image/png": "[encoded data removed]",
      "text/plain": [
       "<Figure size 432x288 with 1 Axes>"
      ]
     },
     "metadata": {
      "needs_background": "light"
     },
     "output_type": "display_data"
    }
   ],
   "source": [
    "# Visualize the distribution of the ending returns\n",
    "plt.figure();\n",
    "ending_cumulative_returns_30.plot(kind='hist', density=True, bins=20, colormap='jet', legend=True)\n",
    "plt.axvline(confidence_interval.iloc[0], color='orange')\n",
    "plt.axvline(confidence_interval.iloc[1], color='orange')"
   ]
  },
  {
   "cell_type": "markdown",
   "metadata": {},
   "source": [
    "---"
   ]
  },
  {
   "cell_type": "markdown",
   "metadata": {},
   "source": [
    "# Retirement Analysis\n",
    "\n",
    "In this section, you will use the monte carlo model to answer the following retirement planning questions:\n",
    "\n",
    "1. What are the expected cumulative returns at 30 years for the 10th, 50th, and 90th percentiles?\n",
    "2. Given an initial investment of `$20,000`, what is the expected portfolio return in dollars at the 10th, 50th, and 90th percentiles?\n",
    "3. Given the current projected annual income from the Plaid analysis, will a 4% withdraw rate from the retirement portfolio meet or exceed that value at the 10th percentile?\n",
    "4. How would a 50% increase in the initial investment amount affect the 4% retirement withdrawal?"
   ]
  },
  {
   "cell_type": "markdown",
   "metadata": {},
   "source": [
    "### What are the expected cumulative returns at 30 years for the 10th, 50th, and 90th percentiles?"
   ]
  },
  {
   "cell_type": "code",
   "execution_count": 547,
   "metadata": {},
   "outputs": [
    {
     "name": "stdout",
     "output_type": "stream",
     "text": [
      "Cumulative Returns at 30 years for the 10th percentile is 33.1\n",
      "Cumulative Returns at 30 years for the 50th percentile is 56.178\n",
      "Cumulative Returns at 30 years for the 90th percentile is 97.241\n"
     ]
    }
   ],
   "source": [
    "cumu_returns_quantile_10 = ending_cumulative_returns_30.quantile(q=[.1]).round(3).values[0]\n",
    "\n",
    "print(f'Cumulative Returns at 30 years for the 10th percentile is {cumu_returns_quantile_10}')\n",
    "\n",
    "# cumu_returns_quantile_50 = ending_cumulative_returns_30.quantile(q=[.5])\n",
    "# print(f'Cumulative Returns at 30 years for the 50th percentile {cumu_returns_quantile_50}')\n",
    "median = round(ending_cumulative_returns_30.median(),3)\n",
    "print(f'Cumulative Returns at 30 years for the 50th percentile is {median}')\n",
    "cumu_returns_quantile_90 = ending_cumulative_returns_30.quantile(q=[.9]).round(3).values[0]\n",
    "print(f'Cumulative Returns at 30 years for the 90th percentile is {cumu_returns_quantile_90}')\n"
   ]
  },
  {
   "cell_type": "markdown",
   "metadata": {},
   "source": [
    "### Given an initial investment of `$20,000`, what is the expected portfolio return in dollars at the 10th, 50th, and 90th percentiles?"
   ]
  },
  {
   "cell_type": "code",
   "execution_count": 548,
   "metadata": {},
   "outputs": [
    {
     "name": "stdout",
     "output_type": "stream",
     "text": [
      "Expected porfolio return with initial investment of $20,000 over 30 years \n",
      " at the 10th percentile NOT including the intial investment is $662000.0\n",
      "Expected porfolio return with initial investment of $20,000 over 30 years \n",
      " at the 50th percentile NOT including the intial investment is $1123560.0\n",
      "print(Expected porfolio return with initial investment of $20,000 over 30 years \n",
      " at the 90th percentile NOT including the intial investment is $1944820.0\n"
     ]
    }
   ],
   "source": [
    "# Set initial investment\n",
    "initial_investment = 20000\n",
    "\n",
    "\n",
    "# Calculate investment profit/loss of 10,50,90 percentile cumulative portfolio returns\n",
    "investment_pnl_10_quantile = initial_investment * cumu_returns_quantile_10\n",
    "\n",
    "investment_pnl_50_quantile = initial_investment * median\n",
    "\n",
    "investment_pnl_90_quantile = initial_investment * cumu_returns_quantile_90\n",
    "\n",
    "\n",
    "# Print the results\n",
    "print(f\"Expected porfolio return with initial investment of $20,000 over 30 years \\n at the 10th percentile NOT including the intial investment is\"\n",
    "      f\" ${investment_pnl_10_quantile}\")\n",
    "\n",
    "print(f\"Expected porfolio return with initial investment of $20,000 over 30 years \\n at the 50th percentile NOT including the intial investment is\"\n",
    "      f\" ${investment_pnl_50_quantile}\")\n",
    "\n",
    "print(f\"print(Expected porfolio return with initial investment of $20,000 over 30 years \\n at the 90th percentile NOT including the intial investment is\"\n",
    "\n",
    "      f\" ${investment_pnl_90_quantile}\")\n"
   ]
  },
  {
   "cell_type": "markdown",
   "metadata": {},
   "source": [
    "### Given the current projected annual income from the Plaid analysis, will a 4% withdraw rate from the retirement portfolio meet or exceed that value at the 10th percentile?\n",
    "\n",
    "Note: This is effectively saying that 90% of the expected returns will be greater than the return at the 10th percentile, so this can help measure the uncertainty about having enough funds at retirement"
   ]
  },
  {
   "cell_type": "code",
   "execution_count": 555,
   "metadata": {},
   "outputs": [
    {
     "name": "stdout",
     "output_type": "stream",
     "text": [
      "$26480.0 is greater than the projected income of $7389 .\n",
      "So the retirement porfolio exceeds the value at 10th percentile\n"
     ]
    }
   ],
   "source": [
    "four_percent_rule = round(investment_pnl_10_quantile * 0.04, 3)\n",
    "print(f'${four_percent_rule} is greater than the projected income of $7389 .\\nSo the retirement porfolio exceeds the value at 10th percentile')\n"
   ]
  },
  {
   "cell_type": "markdown",
   "metadata": {},
   "source": [
    "### How would a 50% increase in the initial investment amount affect the 4% retirement withdrawal?"
   ]
  },
  {
   "cell_type": "code",
   "execution_count": 556,
   "metadata": {},
   "outputs": [
    {
     "name": "stdout",
     "output_type": "stream",
     "text": [
      "Intial investemnt increased to: 30000.0\n",
      "$39720.0 is greater than the projected income of $7389 .\n",
      "So the retirement porfolio exceeds the value at 10th percentile\n"
     ]
    }
   ],
   "source": [
    "initial_investment_50percent_incr = 20000 * 1.5\n",
    "print(f'Intial investemnt increased to: {initial_investment_50percent_incr}')\n",
    "\n",
    "# Calculate investment profit/loss of 10,50,90 percentile cumulative portfolio returns\n",
    "investment_pnl_10_quantile_new = initial_investment_50percent_incr * cumu_returns_quantile_10\n",
    "\n",
    "four_percent_rule_new = round((investment_pnl_10_quantile_new * 0.04), 3)\n",
    "print(f'${four_percent_rule_new} is greater than the projected income of $7389 .\\nSo the retirement porfolio exceeds the value at 10th percentile')\n"
   ]
  },
  {
   "cell_type": "markdown",
   "metadata": {},
   "source": [
    "### Optional Challenge\n",
    "\n",
    "In this section, you will calculate and plot the cumulative returns for the median and 90% confidence intervals. This plot shows the expected cumulative returns for any given day between the first day and the last day of investment. "
   ]
  },
  {
   "cell_type": "code",
   "execution_count": null,
   "metadata": {},
   "outputs": [],
   "source": []
  }
 ],
 "metadata": {
  "kernel_info": {
   "name": "dev"
  },
  "kernelspec": {
   "display_name": "Python 3",
   "language": "python",
   "name": "python3"
  },
  "language_info": {
   "codemirror_mode": {
    "name": "ipython",
    "version": 3
   },
   "file_extension": ".py",
   "mimetype": "text/x-python",
   "name": "python",
   "nbconvert_exporter": "python",
   "pygments_lexer": "ipython3",
   "version": "3.7.6"
  },
  "nteract": {
   "version": "0.12.3"
  }
 },
 "nbformat": 4,
 "nbformat_minor": 4
}
