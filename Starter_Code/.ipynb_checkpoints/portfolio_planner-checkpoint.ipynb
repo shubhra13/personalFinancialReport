{
 "cells": [
  {
   "cell_type": "code",
   "execution_count": 588,
   "metadata": {},
   "outputs": [],
   "source": [
    "# Import libraries and dependencies\n",
    "import numpy as np\n",
    "import pandas as pd\n",
    "import os\n",
    "from datetime import datetime, timedelta\n",
    "import matplotlib.pyplot as plt\n",
    "import alpaca_trade_api as tradeapi\n",
    "%matplotlib inline"
   ]
  },
  {
   "cell_type": "code",
   "execution_count": 589,
   "metadata": {},
   "outputs": [],
   "source": [
    "np.random.seed(42)"
   ]
  },
  {
   "cell_type": "markdown",
   "metadata": {},
   "source": [
    "# Portfolio Planner\n",
    "\n",
    "In this activity, you will use the Alpaca api to grab historical data for a 60/40 portfolio using `SPY` to represent the stock portion and `AGG` to represent the bonds."
   ]
  },
  {
   "cell_type": "code",
   "execution_count": 590,
   "metadata": {},
   "outputs": [],
   "source": [
    "# Load .env enviroment variables\n",
    "from dotenv import load_dotenv\n",
    "load_dotenv()\n",
    "\n",
    "# Set Alpaca API key and secret\n",
    "alpaca_api_key = os.getenv(\"ALPACA_API_KEY\")\n",
    "alpaca_secret_key = os.getenv(\"ALPACA_SECRET_KEY\")\n",
    "\n",
    "# api = tradeapi.REST()\n",
    "api = tradeapi.REST(alpaca_api_key, alpaca_secret_key, api_version='v2')"
   ]
  },
  {
   "cell_type": "markdown",
   "metadata": {},
   "source": [
    "# Data Collection\n",
    "\n",
    "In this step, you will need to use the Alpaca api to fetch closing prices for the `SPY` and `AGG` tickers. Save the results as a pandas DataFrame"
   ]
  },
  {
   "cell_type": "code",
   "execution_count": 591,
   "metadata": {},
   "outputs": [
    {
     "data": {
      "text/html": [
       "<div>\n",
       "<style scoped>\n",
       "    .dataframe tbody tr th:only-of-type {\n",
       "        vertical-align: middle;\n",
       "    }\n",
       "\n",
       "    .dataframe tbody tr th {\n",
       "        vertical-align: top;\n",
       "    }\n",
       "\n",
       "    .dataframe thead tr th {\n",
       "        text-align: left;\n",
       "    }\n",
       "</style>\n",
       "<table border=\"1\" class=\"dataframe\">\n",
       "  <thead>\n",
       "    <tr>\n",
       "      <th></th>\n",
       "      <th colspan=\"5\" halign=\"left\">AGG</th>\n",
       "      <th colspan=\"5\" halign=\"left\">SPY</th>\n",
       "    </tr>\n",
       "    <tr>\n",
       "      <th></th>\n",
       "      <th>open</th>\n",
       "      <th>high</th>\n",
       "      <th>low</th>\n",
       "      <th>close</th>\n",
       "      <th>volume</th>\n",
       "      <th>open</th>\n",
       "      <th>high</th>\n",
       "      <th>low</th>\n",
       "      <th>close</th>\n",
       "      <th>volume</th>\n",
       "    </tr>\n",
       "  </thead>\n",
       "  <tbody>\n",
       "    <tr>\n",
       "      <th>2019-01-02 00:00:00-05:00</th>\n",
       "      <td>106.55</td>\n",
       "      <td>106.610</td>\n",
       "      <td>106.4701</td>\n",
       "      <td>106.585</td>\n",
       "      <td>10164756.0</td>\n",
       "      <td>245.98</td>\n",
       "      <td>251.21</td>\n",
       "      <td>245.95</td>\n",
       "      <td>249.89</td>\n",
       "      <td>107236613</td>\n",
       "    </tr>\n",
       "    <tr>\n",
       "      <th>2019-01-03 00:00:00-05:00</th>\n",
       "      <td>106.57</td>\n",
       "      <td>107.075</td>\n",
       "      <td>106.5700</td>\n",
       "      <td>107.020</td>\n",
       "      <td>6260265.0</td>\n",
       "      <td>248.23</td>\n",
       "      <td>248.57</td>\n",
       "      <td>244.03</td>\n",
       "      <td>244.46</td>\n",
       "      <td>113782919</td>\n",
       "    </tr>\n",
       "    <tr>\n",
       "      <th>2019-01-04 00:00:00-05:00</th>\n",
       "      <td>106.66</td>\n",
       "      <td>106.720</td>\n",
       "      <td>106.5500</td>\n",
       "      <td>106.695</td>\n",
       "      <td>7755476.0</td>\n",
       "      <td>247.59</td>\n",
       "      <td>253.11</td>\n",
       "      <td>247.17</td>\n",
       "      <td>252.41</td>\n",
       "      <td>122528832</td>\n",
       "    </tr>\n",
       "    <tr>\n",
       "      <th>2019-01-07 00:00:00-05:00</th>\n",
       "      <td>106.72</td>\n",
       "      <td>106.790</td>\n",
       "      <td>106.4600</td>\n",
       "      <td>106.470</td>\n",
       "      <td>6545877.0</td>\n",
       "      <td>252.69</td>\n",
       "      <td>255.95</td>\n",
       "      <td>251.69</td>\n",
       "      <td>254.40</td>\n",
       "      <td>88317608</td>\n",
       "    </tr>\n",
       "    <tr>\n",
       "      <th>2019-01-08 00:00:00-05:00</th>\n",
       "      <td>106.40</td>\n",
       "      <td>106.530</td>\n",
       "      <td>105.5300</td>\n",
       "      <td>106.420</td>\n",
       "      <td>3818241.0</td>\n",
       "      <td>256.82</td>\n",
       "      <td>257.31</td>\n",
       "      <td>254.00</td>\n",
       "      <td>256.65</td>\n",
       "      <td>88864452</td>\n",
       "    </tr>\n",
       "  </tbody>\n",
       "</table>\n",
       "</div>"
      ],
      "text/plain": [
       "                              AGG                                          \\\n",
       "                             open     high       low    close      volume   \n",
       "2019-01-02 00:00:00-05:00  106.55  106.610  106.4701  106.585  10164756.0   \n",
       "2019-01-03 00:00:00-05:00  106.57  107.075  106.5700  107.020   6260265.0   \n",
       "2019-01-04 00:00:00-05:00  106.66  106.720  106.5500  106.695   7755476.0   \n",
       "2019-01-07 00:00:00-05:00  106.72  106.790  106.4600  106.470   6545877.0   \n",
       "2019-01-08 00:00:00-05:00  106.40  106.530  105.5300  106.420   3818241.0   \n",
       "\n",
       "                              SPY                                     \n",
       "                             open    high     low   close     volume  \n",
       "2019-01-02 00:00:00-05:00  245.98  251.21  245.95  249.89  107236613  \n",
       "2019-01-03 00:00:00-05:00  248.23  248.57  244.03  244.46  113782919  \n",
       "2019-01-04 00:00:00-05:00  247.59  253.11  247.17  252.41  122528832  \n",
       "2019-01-07 00:00:00-05:00  252.69  255.95  251.69  254.40   88317608  \n",
       "2019-01-08 00:00:00-05:00  256.82  257.31  254.00  256.65   88864452  "
      ]
     },
     "execution_count": 591,
     "metadata": {},
     "output_type": "execute_result"
    }
   ],
   "source": [
    "list_of_tickers = [\"SPY\", \"AGG\"]\n",
    "\n",
    "# Set timeframe to '1D' i.e. everyday\n",
    "timeframe = '1D'\n",
    "\n",
    "# Set start and end datetimes of 1 year, between now and 365 days ago.\n",
    "# end_date = datetime.now()\n",
    "# start_date = end_date + timedelta(-365)\n",
    "\n",
    "# Alpeca has an issue with getting less than 5 mo. data\n",
    "start_date = pd.Timestamp('2019-01-01', tz='America/New_York').isoformat()\n",
    "end_date = pd.Timestamp('2019-12-31', tz='America/New_York').isoformat()\n",
    "\n",
    "# Get 1 year's worth of historical data for TSLA\n",
    "df = api.get_barset(\n",
    "    list_of_tickers,\n",
    "    timeframe,\n",
    "    limit=None,\n",
    "    start=start_date,\n",
    "    end=end_date,\n",
    "    after=None,\n",
    "    until=None,\n",
    ").df\n",
    "\n",
    "df.head()\n",
    "\n"
   ]
  },
  {
   "cell_type": "code",
   "execution_count": 592,
   "metadata": {},
   "outputs": [
    {
     "data": {
      "text/html": [
       "<div>\n",
       "<style scoped>\n",
       "    .dataframe tbody tr th:only-of-type {\n",
       "        vertical-align: middle;\n",
       "    }\n",
       "\n",
       "    .dataframe tbody tr th {\n",
       "        vertical-align: top;\n",
       "    }\n",
       "\n",
       "    .dataframe thead th {\n",
       "        text-align: right;\n",
       "    }\n",
       "</style>\n",
       "<table border=\"1\" class=\"dataframe\">\n",
       "  <thead>\n",
       "    <tr style=\"text-align: right;\">\n",
       "      <th></th>\n",
       "      <th>AGG</th>\n",
       "      <th>SPY</th>\n",
       "    </tr>\n",
       "  </thead>\n",
       "  <tbody>\n",
       "    <tr>\n",
       "      <th>2019-12-24</th>\n",
       "      <td>112.375</td>\n",
       "      <td>321.26</td>\n",
       "    </tr>\n",
       "    <tr>\n",
       "      <th>2019-12-26</th>\n",
       "      <td>112.480</td>\n",
       "      <td>322.91</td>\n",
       "    </tr>\n",
       "    <tr>\n",
       "      <th>2019-12-27</th>\n",
       "      <td>112.620</td>\n",
       "      <td>322.86</td>\n",
       "    </tr>\n",
       "    <tr>\n",
       "      <th>2019-12-30</th>\n",
       "      <td>112.630</td>\n",
       "      <td>321.10</td>\n",
       "    </tr>\n",
       "    <tr>\n",
       "      <th>2019-12-31</th>\n",
       "      <td>112.370</td>\n",
       "      <td>321.92</td>\n",
       "    </tr>\n",
       "  </tbody>\n",
       "</table>\n",
       "</div>"
      ],
      "text/plain": [
       "                AGG     SPY\n",
       "2019-12-24  112.375  321.26\n",
       "2019-12-26  112.480  322.91\n",
       "2019-12-27  112.620  322.86\n",
       "2019-12-30  112.630  321.10\n",
       "2019-12-31  112.370  321.92"
      ]
     },
     "execution_count": 592,
     "metadata": {},
     "output_type": "execute_result"
    }
   ],
   "source": [
    "# Clean up Data\n",
    "\n",
    "# Drop Outer Table Level\n",
    "df = df.droplevel(axis=1, level=0)\n",
    "\n",
    "# Use the drop function to drop extra columns\n",
    "df.drop(columns=['open', 'high', 'low', 'volume'], inplace=True)\n",
    "\n",
    "# Since this is daily data, we can keep only the date (remove the time) component of the data\n",
    "df.index = df.index.date\n",
    "df.sort_index(inplace=True)\n",
    "df.columns = [\"AGG\",\"SPY\"]\n",
    "df.tail()\n"
   ]
  },
  {
   "cell_type": "markdown",
   "metadata": {},
   "source": [
    "# Monte Carlo Simulation\n",
    "\n",
    "In this step, you will run Monte Carlo Simulations for your portfolio to model portfolio performance at different retirement ages. \n",
    "\n",
    "Complete the following steps:\n",
    "1. Calculate the daily returns for the SPY and AGG closing prices.\n",
    "2. Calculate volatility for both the SPY and AGG closing prices.\n",
    "3. Find the last day's closing price for both stocks and save those as variables.\n",
    "4. Run a Monte Carlo Simulation of at least 500 iterations and generate at least 30 years of closing prices\n",
    "\n",
    "### HINTS:\n",
    "There are 252 trading days per year, so the number of records to generate for each Monte Carlo run will be 252 days * 30 years"
   ]
  },
  {
   "cell_type": "code",
   "execution_count": 593,
   "metadata": {},
   "outputs": [
    {
     "data": {
      "text/html": [
       "<div>\n",
       "<style scoped>\n",
       "    .dataframe tbody tr th:only-of-type {\n",
       "        vertical-align: middle;\n",
       "    }\n",
       "\n",
       "    .dataframe tbody tr th {\n",
       "        vertical-align: top;\n",
       "    }\n",
       "\n",
       "    .dataframe thead th {\n",
       "        text-align: right;\n",
       "    }\n",
       "</style>\n",
       "<table border=\"1\" class=\"dataframe\">\n",
       "  <thead>\n",
       "    <tr style=\"text-align: right;\">\n",
       "      <th></th>\n",
       "      <th>AGG</th>\n",
       "      <th>SPY</th>\n",
       "    </tr>\n",
       "  </thead>\n",
       "  <tbody>\n",
       "    <tr>\n",
       "      <th>2019-01-03</th>\n",
       "      <td>0.004081</td>\n",
       "      <td>-0.021730</td>\n",
       "    </tr>\n",
       "    <tr>\n",
       "      <th>2019-01-04</th>\n",
       "      <td>-0.003037</td>\n",
       "      <td>0.032521</td>\n",
       "    </tr>\n",
       "    <tr>\n",
       "      <th>2019-01-07</th>\n",
       "      <td>-0.002109</td>\n",
       "      <td>0.007884</td>\n",
       "    </tr>\n",
       "    <tr>\n",
       "      <th>2019-01-08</th>\n",
       "      <td>-0.000470</td>\n",
       "      <td>0.008844</td>\n",
       "    </tr>\n",
       "    <tr>\n",
       "      <th>2019-01-09</th>\n",
       "      <td>0.000564</td>\n",
       "      <td>0.004130</td>\n",
       "    </tr>\n",
       "  </tbody>\n",
       "</table>\n",
       "</div>"
      ],
      "text/plain": [
       "                 AGG       SPY\n",
       "2019-01-03  0.004081 -0.021730\n",
       "2019-01-04 -0.003037  0.032521\n",
       "2019-01-07 -0.002109  0.007884\n",
       "2019-01-08 -0.000470  0.008844\n",
       "2019-01-09  0.000564  0.004130"
      ]
     },
     "execution_count": 593,
     "metadata": {},
     "output_type": "execute_result"
    }
   ],
   "source": [
    "# Calculate the daily roi for the stocks\n",
    "\n",
    "daily_returns = df.pct_change()\n",
    "daily_returns.dropna(inplace = True)\n",
    "\n",
    "avg_daily_return_spy = daily_returns.mean()['AGG']\n",
    "avg_daily_return_agg = daily_returns.mean()['SPY']\n",
    "\n",
    "daily_returns.head()"
   ]
  },
  {
   "cell_type": "code",
   "execution_count": 594,
   "metadata": {},
   "outputs": [],
   "source": [
    "# Calculate volatility\n",
    "\n",
    "std_dev_daily_return_spy = daily_returns['SPY'].std()\n",
    "std_dev_daily_return_agg = daily_returns['AGG'].std()\n"
   ]
  },
  {
   "cell_type": "code",
   "execution_count": 595,
   "metadata": {},
   "outputs": [],
   "source": [
    "# Save the last day's closing price\n",
    "\n",
    "spy_last_closing = df['SPY'][-1]\n",
    "agg_last_closing = df['AGG'][-1]\n"
   ]
  },
  {
   "cell_type": "code",
   "execution_count": 597,
   "metadata": {},
   "outputs": [],
   "source": [
    "# Setup the Monte Carlo Parameters\n",
    "number_simulations = 500\n",
    "number_records = 252 * 30\n",
    "\n",
    "# Initialize empty DataFrame to hold simulated prices for each simulation\n",
    "simulated_price_df = pd.DataFrame()\n",
    "monte_carlo = pd.DataFrame()"
   ]
  },
  {
   "cell_type": "code",
   "execution_count": 598,
   "metadata": {},
   "outputs": [
    {
     "data": {
      "text/html": [
       "<div>\n",
       "<style scoped>\n",
       "    .dataframe tbody tr th:only-of-type {\n",
       "        vertical-align: middle;\n",
       "    }\n",
       "\n",
       "    .dataframe tbody tr th {\n",
       "        vertical-align: top;\n",
       "    }\n",
       "\n",
       "    .dataframe thead th {\n",
       "        text-align: right;\n",
       "    }\n",
       "</style>\n",
       "<table border=\"1\" class=\"dataframe\">\n",
       "  <thead>\n",
       "    <tr style=\"text-align: right;\">\n",
       "      <th></th>\n",
       "      <th>Simulation 0</th>\n",
       "      <th>Simulation 1</th>\n",
       "      <th>Simulation 2</th>\n",
       "      <th>Simulation 3</th>\n",
       "      <th>Simulation 4</th>\n",
       "      <th>Simulation 5</th>\n",
       "      <th>Simulation 6</th>\n",
       "      <th>Simulation 7</th>\n",
       "      <th>Simulation 8</th>\n",
       "      <th>Simulation 9</th>\n",
       "      <th>...</th>\n",
       "      <th>Simulation 490</th>\n",
       "      <th>Simulation 491</th>\n",
       "      <th>Simulation 492</th>\n",
       "      <th>Simulation 493</th>\n",
       "      <th>Simulation 494</th>\n",
       "      <th>Simulation 495</th>\n",
       "      <th>Simulation 496</th>\n",
       "      <th>Simulation 497</th>\n",
       "      <th>Simulation 498</th>\n",
       "      <th>Simulation 499</th>\n",
       "    </tr>\n",
       "  </thead>\n",
       "  <tbody>\n",
       "    <tr>\n",
       "      <th>0</th>\n",
       "      <td>1.000000</td>\n",
       "      <td>1.000000</td>\n",
       "      <td>1.000000</td>\n",
       "      <td>1.000000</td>\n",
       "      <td>1.000000</td>\n",
       "      <td>1.000000</td>\n",
       "      <td>1.000000</td>\n",
       "      <td>1.000000</td>\n",
       "      <td>1.000000</td>\n",
       "      <td>1.000000</td>\n",
       "      <td>...</td>\n",
       "      <td>1.000000</td>\n",
       "      <td>1.000000</td>\n",
       "      <td>1.000000</td>\n",
       "      <td>1.000000</td>\n",
       "      <td>1.000000</td>\n",
       "      <td>1.000000</td>\n",
       "      <td>1.000000</td>\n",
       "      <td>1.000000</td>\n",
       "      <td>1.000000</td>\n",
       "      <td>1.000000</td>\n",
       "    </tr>\n",
       "    <tr>\n",
       "      <th>1</th>\n",
       "      <td>1.002759</td>\n",
       "      <td>0.995833</td>\n",
       "      <td>0.993424</td>\n",
       "      <td>0.999673</td>\n",
       "      <td>1.005507</td>\n",
       "      <td>1.006778</td>\n",
       "      <td>1.009236</td>\n",
       "      <td>0.996391</td>\n",
       "      <td>1.001793</td>\n",
       "      <td>0.999185</td>\n",
       "      <td>...</td>\n",
       "      <td>1.002103</td>\n",
       "      <td>0.995805</td>\n",
       "      <td>1.007142</td>\n",
       "      <td>0.999997</td>\n",
       "      <td>0.997733</td>\n",
       "      <td>1.003042</td>\n",
       "      <td>0.996276</td>\n",
       "      <td>0.993979</td>\n",
       "      <td>1.003043</td>\n",
       "      <td>0.997388</td>\n",
       "    </tr>\n",
       "    <tr>\n",
       "      <th>2</th>\n",
       "      <td>1.007627</td>\n",
       "      <td>0.999667</td>\n",
       "      <td>0.992738</td>\n",
       "      <td>0.998709</td>\n",
       "      <td>1.008738</td>\n",
       "      <td>0.997863</td>\n",
       "      <td>1.003792</td>\n",
       "      <td>0.985970</td>\n",
       "      <td>1.001015</td>\n",
       "      <td>1.007498</td>\n",
       "      <td>...</td>\n",
       "      <td>1.004186</td>\n",
       "      <td>1.003039</td>\n",
       "      <td>1.010213</td>\n",
       "      <td>1.001638</td>\n",
       "      <td>0.999145</td>\n",
       "      <td>0.999944</td>\n",
       "      <td>0.995806</td>\n",
       "      <td>0.994446</td>\n",
       "      <td>1.002980</td>\n",
       "      <td>1.001113</td>\n",
       "    </tr>\n",
       "    <tr>\n",
       "      <th>3</th>\n",
       "      <td>1.006871</td>\n",
       "      <td>0.999735</td>\n",
       "      <td>0.996228</td>\n",
       "      <td>0.993026</td>\n",
       "      <td>1.008117</td>\n",
       "      <td>1.000912</td>\n",
       "      <td>1.007638</td>\n",
       "      <td>0.980093</td>\n",
       "      <td>1.000824</td>\n",
       "      <td>1.015600</td>\n",
       "      <td>...</td>\n",
       "      <td>1.004245</td>\n",
       "      <td>1.005743</td>\n",
       "      <td>1.014842</td>\n",
       "      <td>1.003130</td>\n",
       "      <td>0.992679</td>\n",
       "      <td>0.998745</td>\n",
       "      <td>0.999503</td>\n",
       "      <td>0.999998</td>\n",
       "      <td>1.006329</td>\n",
       "      <td>0.999985</td>\n",
       "    </tr>\n",
       "    <tr>\n",
       "      <th>4</th>\n",
       "      <td>1.015525</td>\n",
       "      <td>1.002619</td>\n",
       "      <td>0.992738</td>\n",
       "      <td>0.998779</td>\n",
       "      <td>1.009627</td>\n",
       "      <td>0.996017</td>\n",
       "      <td>1.006453</td>\n",
       "      <td>0.977394</td>\n",
       "      <td>1.008632</td>\n",
       "      <td>1.005642</td>\n",
       "      <td>...</td>\n",
       "      <td>1.006137</td>\n",
       "      <td>1.004014</td>\n",
       "      <td>1.013462</td>\n",
       "      <td>1.008244</td>\n",
       "      <td>0.998782</td>\n",
       "      <td>0.995816</td>\n",
       "      <td>0.993985</td>\n",
       "      <td>1.000724</td>\n",
       "      <td>1.010836</td>\n",
       "      <td>1.003467</td>\n",
       "    </tr>\n",
       "  </tbody>\n",
       "</table>\n",
       "<p>5 rows × 500 columns</p>\n",
       "</div>"
      ],
      "text/plain": [
       "   Simulation 0  Simulation 1  Simulation 2  Simulation 3  Simulation 4  \\\n",
       "0      1.000000      1.000000      1.000000      1.000000      1.000000   \n",
       "1      1.002759      0.995833      0.993424      0.999673      1.005507   \n",
       "2      1.007627      0.999667      0.992738      0.998709      1.008738   \n",
       "3      1.006871      0.999735      0.996228      0.993026      1.008117   \n",
       "4      1.015525      1.002619      0.992738      0.998779      1.009627   \n",
       "\n",
       "   Simulation 5  Simulation 6  Simulation 7  Simulation 8  Simulation 9  ...  \\\n",
       "0      1.000000      1.000000      1.000000      1.000000      1.000000  ...   \n",
       "1      1.006778      1.009236      0.996391      1.001793      0.999185  ...   \n",
       "2      0.997863      1.003792      0.985970      1.001015      1.007498  ...   \n",
       "3      1.000912      1.007638      0.980093      1.000824      1.015600  ...   \n",
       "4      0.996017      1.006453      0.977394      1.008632      1.005642  ...   \n",
       "\n",
       "   Simulation 490  Simulation 491  Simulation 492  Simulation 493  \\\n",
       "0        1.000000        1.000000        1.000000        1.000000   \n",
       "1        1.002103        0.995805        1.007142        0.999997   \n",
       "2        1.004186        1.003039        1.010213        1.001638   \n",
       "3        1.004245        1.005743        1.014842        1.003130   \n",
       "4        1.006137        1.004014        1.013462        1.008244   \n",
       "\n",
       "   Simulation 494  Simulation 495  Simulation 496  Simulation 497  \\\n",
       "0        1.000000        1.000000        1.000000        1.000000   \n",
       "1        0.997733        1.003042        0.996276        0.993979   \n",
       "2        0.999145        0.999944        0.995806        0.994446   \n",
       "3        0.992679        0.998745        0.999503        0.999998   \n",
       "4        0.998782        0.995816        0.993985        1.000724   \n",
       "\n",
       "   Simulation 498  Simulation 499  \n",
       "0        1.000000        1.000000  \n",
       "1        1.003043        0.997388  \n",
       "2        1.002980        1.001113  \n",
       "3        1.006329        0.999985  \n",
       "4        1.010836        1.003467  \n",
       "\n",
       "[5 rows x 500 columns]"
      ]
     },
     "execution_count": 598,
     "metadata": {},
     "output_type": "execute_result"
    }
   ],
   "source": [
    "# Run the Monte Carlo Simulation\n",
    "for x in range(number_simulations):\n",
    "\n",
    "    # Initialize the simulated prices list with the last closing price of `SPY` and `AGG`\n",
    "    simulated_spy_prices = [spy_last_closing]\n",
    "    simulated_agg_prices = [agg_last_closing]\n",
    "    \n",
    "    # Simulate the returns for 252 * 30 days\n",
    "    for i in range(number_records):\n",
    "        \n",
    "        # Calculate the simulated price using the last price within the list\n",
    "        simulated_spy_price = simulated_spy_prices[-1] * (1 + np.random.normal(avg_daily_return_spy, std_dev_daily_return_spy))\n",
    "        simulated_agg_price = simulated_agg_prices[-1] * (1 + np.random.normal(avg_daily_return_agg, std_dev_daily_return_agg))\n",
    "        \n",
    "        # Append the simulated price to the list\n",
    "        simulated_spy_prices.append(simulated_spy_price)\n",
    "        simulated_agg_prices.append(simulated_agg_price)\n",
    "    \n",
    "    # Append a simulated prices of each simulation to DataFrame\n",
    "    simulated_price_df[\"SPY prices\"] = pd.Series(simulated_spy_prices)\n",
    "    simulated_price_df[\"AGG prices\"] = pd.Series(simulated_agg_prices)\n",
    "    \n",
    "    # Calculate the daily returns of simulated prices\n",
    "    simulated_daily_returns = simulated_price_df.pct_change()\n",
    "\n",
    "    # Set the portfolio weights (60% SPY; 40% AGG)\n",
    "    weights = [0.60, 0.40]\n",
    "\n",
    "    # Use the `dot` function with the weights to multiply weights with each column's simulated daily returns\n",
    "    portfolio_daily_returns = simulated_daily_returns.dot(weights)\n",
    "    \n",
    "    # Calculate the normalized, cumulative return series\n",
    "    monte_carlo[f'Simulation {x}'] = (1 + portfolio_daily_returns.fillna(0)).cumprod()\n",
    "\n",
    "# Print records from the DataFrame\n",
    "monte_carlo.head()\n",
    "    "
   ]
  },
  {
   "cell_type": "code",
   "execution_count": 599,
   "metadata": {},
   "outputs": [
    {
     "data": {
      "text/plain": [
       "<matplotlib.axes._subplots.AxesSubplot at 0x1b14280e4c8>"
      ]
     },
     "execution_count": 599,
     "metadata": {},
     "output_type": "execute_result"
    },
    {
     "data": {
      "image/png": "[encoded data removed]",
      "text/plain": [
       "<Figure size 720x720 with 1 Axes>"
      ]
     },
     "metadata": {
      "needs_background": "light"
     },
     "output_type": "display_data"
    }
   ],
   "source": [
    "# Visualize the Simulation\n",
    "# Use the `plot` function to plot `500` simulations of the potential trajectories of the portfolio based on 252x30 trading days\n",
    "plot_title = \"Simulated Retirement Porfolio\"\n",
    "monte_carlo.plot(legend=None, title=plot_title, figsize=(10,10))\n"
   ]
  },
  {
   "cell_type": "code",
   "execution_count": 600,
   "metadata": {},
   "outputs": [
    {
     "data": {
      "text/plain": [
       "Simulation 495     96.605035\n",
       "Simulation 496     28.155789\n",
       "Simulation 497     61.457458\n",
       "Simulation 498    113.690966\n",
       "Simulation 499     28.961934\n",
       "Name: 7560, dtype: float64"
      ]
     },
     "execution_count": 600,
     "metadata": {},
     "output_type": "execute_result"
    }
   ],
   "source": [
    "# Select the last row for the cumulative returns (cumulative returns at 30 years)\n",
    "ending_cumulative_returns_30 = monte_carlo.iloc[-1, :]\n",
    "ending_cumulative_returns_30.tail()\n"
   ]
  },
  {
   "cell_type": "code",
   "execution_count": 601,
   "metadata": {},
   "outputs": [
    {
     "data": {
      "text/plain": [
       "Simulation 495    21.156103\n",
       "Simulation 496     8.634642\n",
       "Simulation 497    16.659853\n",
       "Simulation 498    21.020026\n",
       "Simulation 499    11.833706\n",
       "Name: 5040, dtype: float64"
      ]
     },
     "execution_count": 601,
     "metadata": {},
     "output_type": "execute_result"
    }
   ],
   "source": [
    "# Select the last row for the cumulative returns (cumulative returns at 20 years)\n",
    "ending_cumulative_returns_20 = monte_carlo.iloc[252*20, :]\n",
    "ending_cumulative_returns_20.tail()\n"
   ]
  },
  {
   "cell_type": "code",
   "execution_count": 602,
   "metadata": {},
   "outputs": [
    {
     "data": {
      "text/plain": [
       "0.05     27.023931\n",
       "0.95    107.339459\n",
       "Name: 7560, dtype: float64"
      ]
     },
     "execution_count": 602,
     "metadata": {},
     "output_type": "execute_result"
    }
   ],
   "source": [
    "# Display the 90% confidence interval for the ending returns\n",
    "confidence_interval = ending_cumulative_returns_30.quantile(q=[0.05, 0.95])\n",
    "confidence_interval\n"
   ]
  },
  {
   "cell_type": "code",
   "execution_count": 603,
   "metadata": {},
   "outputs": [
    {
     "data": {
      "text/plain": [
       "<matplotlib.lines.Line2D at 0x1b14cbc7ac8>"
      ]
     },
     "execution_count": 603,
     "metadata": {},
     "output_type": "execute_result"
    },
    {
     "data": {
      "image/png": "[encoded data removed]",
      "text/plain": [
       "<Figure size 432x288 with 1 Axes>"
      ]
     },
     "metadata": {
      "needs_background": "light"
     },
     "output_type": "display_data"
    }
   ],
   "source": [
    "# Visualize the distribution of the ending returns\n",
    "plt.figure();\n",
    "ending_cumulative_returns_30.plot(kind='hist', density=True, bins=20, colormap='jet', legend=True)\n",
    "plt.axvline(confidence_interval.iloc[0], color='orange')\n",
    "plt.axvline(confidence_interval.iloc[1], color='orange')"
   ]
  },
  {
   "cell_type": "markdown",
   "metadata": {},
   "source": [
    "---"
   ]
  },
  {
   "cell_type": "markdown",
   "metadata": {},
   "source": [
    "# Retirement Analysis\n",
    "\n",
    "In this section, you will use the monte carlo model to answer the following retirement planning questions:\n",
    "\n",
    "1. What are the expected cumulative returns at 30 years for the 10th, 50th, and 90th percentiles?\n",
    "2. Given an initial investment of `$20,000`, what is the expected portfolio return in dollars at the 10th, 50th, and 90th percentiles?\n",
    "3. Given the current projected annual income from the Plaid analysis, will a 4% withdraw rate from the retirement portfolio meet or exceed that value at the 10th percentile?\n",
    "4. How would a 50% increase in the initial investment amount affect the 4% retirement withdrawal?"
   ]
  },
  {
   "cell_type": "markdown",
   "metadata": {},
   "source": [
    "### What are the expected cumulative returns at 30 years for the 10th, 50th, and 90th percentiles?"
   ]
  },
  {
   "cell_type": "code",
   "execution_count": 578,
   "metadata": {},
   "outputs": [
    {
     "name": "stdout",
     "output_type": "stream",
     "text": [
      "Cumulative Returns at 30 years for the 10th percentile is 33.621\n",
      "Cumulative Returns at 30 years for the 50th percentile is 54.379\n",
      "Cumulative Returns at 30 years for the 90th percentile is 90.047\n"
     ]
    }
   ],
   "source": [
    "cumu_returns_quantile_10 = ending_cumulative_returns_30.quantile(q=[.1]).round(3).values[0]\n",
    "\n",
    "print(f'Cumulative Returns at 30 years for the 10th percentile is {cumu_returns_quantile_10}')\n",
    "\n",
    "# cumu_returns_quantile_50 = ending_cumulative_returns_30.quantile(q=[.5])\n",
    "# print(f'Cumulative Returns at 30 years for the 50th percentile {cumu_returns_quantile_50}')\n",
    "median = round(ending_cumulative_returns_30.median(),3)\n",
    "print(f'Cumulative Returns at 30 years for the 50th percentile is {median}')\n",
    "cumu_returns_quantile_90 = ending_cumulative_returns_30.quantile(q=[.9]).round(3).values[0]\n",
    "print(f'Cumulative Returns at 30 years for the 90th percentile is {cumu_returns_quantile_90}')\n"
   ]
  },
  {
   "cell_type": "markdown",
   "metadata": {},
   "source": [
    "### Given an initial investment of `$20,000`, what is the expected portfolio return in dollars at the 10th, 50th, and 90th percentiles?"
   ]
  },
  {
   "cell_type": "code",
   "execution_count": 579,
   "metadata": {},
   "outputs": [
    {
     "name": "stdout",
     "output_type": "stream",
     "text": [
      "Expected porfolio return with initial investment of $20,000 over 30 years \n",
      " at the 10th percentile NOT including the intial investment is $672420.0\n",
      "Expected porfolio return with initial investment of $20,000 over 30 years \n",
      " at the 50th percentile NOT including the intial investment is $1087580.0\n",
      "print(Expected porfolio return with initial investment of $20,000 over 30 years \n",
      " at the 90th percentile NOT including the intial investment is $1800940.0\n"
     ]
    }
   ],
   "source": [
    "# Set initial investment\n",
    "initial_investment = 20000\n",
    "\n",
    "\n",
    "# Calculate investment profit/loss of 10,50,90 percentile cumulative portfolio returns\n",
    "investment_pnl_10_quantile = initial_investment * cumu_returns_quantile_10\n",
    "\n",
    "investment_pnl_50_quantile = initial_investment * median\n",
    "\n",
    "investment_pnl_90_quantile = initial_investment * cumu_returns_quantile_90\n",
    "\n",
    "\n",
    "# Print the results\n",
    "print(f\"Expected porfolio return with initial investment of $20,000 over 30 years \\n at the 10th percentile NOT including the intial investment is\"\n",
    "      f\" ${investment_pnl_10_quantile}\")\n",
    "\n",
    "print(f\"Expected porfolio return with initial investment of $20,000 over 30 years \\n at the 50th percentile NOT including the intial investment is\"\n",
    "      f\" ${investment_pnl_50_quantile}\")\n",
    "\n",
    "print(f\"print(Expected porfolio return with initial investment of $20,000 over 30 years \\n at the 90th percentile NOT including the intial investment is\"\n",
    "\n",
    "      f\" ${investment_pnl_90_quantile}\")\n"
   ]
  },
  {
   "cell_type": "markdown",
   "metadata": {},
   "source": [
    "### Given the current projected annual income from the Plaid analysis, will a 4% withdraw rate from the retirement portfolio meet or exceed that value at the 10th percentile?\n",
    "\n",
    "Note: This is effectively saying that 90% of the expected returns will be greater than the return at the 10th percentile, so this can help measure the uncertainty about having enough funds at retirement"
   ]
  },
  {
   "cell_type": "code",
   "execution_count": 580,
   "metadata": {},
   "outputs": [
    {
     "name": "stdout",
     "output_type": "stream",
     "text": [
      "$26896.8 is greater than the projected income of $7389 .\n",
      "So the retirement porfolio exceeds the value at 10th percentile\n"
     ]
    }
   ],
   "source": [
    "four_percent_rule = round(investment_pnl_10_quantile * 0.04, 3)\n",
    "print(f'${four_percent_rule} is greater than the projected income of $7389 .\\nSo the retirement porfolio exceeds the value at 10th percentile')\n"
   ]
  },
  {
   "cell_type": "markdown",
   "metadata": {},
   "source": [
    "### How would a 50% increase in the initial investment amount affect the 4% retirement withdrawal?"
   ]
  },
  {
   "cell_type": "code",
   "execution_count": 581,
   "metadata": {},
   "outputs": [
    {
     "name": "stdout",
     "output_type": "stream",
     "text": [
      "Intial investemnt increased to: 30000.0\n",
      "$40345.2 is greater than the projected income of $7389 .\n",
      "So the retirement porfolio exceeds the value at 10th percentile\n"
     ]
    }
   ],
   "source": [
    "initial_investment_50percent_incr = 20000 * 1.5\n",
    "print(f'Intial investemnt increased to: {initial_investment_50percent_incr}')\n",
    "\n",
    "# Calculate investment profit/loss of 10,50,90 percentile cumulative portfolio returns\n",
    "investment_pnl_10_quantile_new = initial_investment_50percent_incr * cumu_returns_quantile_10\n",
    "\n",
    "four_percent_rule_new = round((investment_pnl_10_quantile_new * 0.04), 3)\n",
    "print(f'${four_percent_rule_new} is greater than the projected income of $7389 .\\nSo the retirement porfolio exceeds the value at 10th percentile')\n"
   ]
  },
  {
   "cell_type": "markdown",
   "metadata": {},
   "source": [
    "### Optional Challenge\n",
    "\n",
    "In this section, you will calculate and plot the cumulative returns for the median and 90% confidence intervals. This plot shows the expected cumulative returns for any given day between the first day and the last day of investment. "
   ]
  },
  {
   "cell_type": "code",
   "execution_count": 708,
   "metadata": {},
   "outputs": [
    {
     "data": {
      "text/html": [
       "<div>\n",
       "<style scoped>\n",
       "    .dataframe tbody tr th:only-of-type {\n",
       "        vertical-align: middle;\n",
       "    }\n",
       "\n",
       "    .dataframe tbody tr th {\n",
       "        vertical-align: top;\n",
       "    }\n",
       "\n",
       "    .dataframe thead th {\n",
       "        text-align: right;\n",
       "    }\n",
       "</style>\n",
       "<table border=\"1\" class=\"dataframe\">\n",
       "  <thead>\n",
       "    <tr style=\"text-align: right;\">\n",
       "      <th></th>\n",
       "      <th>0</th>\n",
       "      <th>1</th>\n",
       "      <th>2</th>\n",
       "      <th>3</th>\n",
       "      <th>4</th>\n",
       "      <th>5</th>\n",
       "      <th>6</th>\n",
       "      <th>7</th>\n",
       "      <th>8</th>\n",
       "      <th>9</th>\n",
       "      <th>...</th>\n",
       "      <th>7551</th>\n",
       "      <th>7552</th>\n",
       "      <th>7553</th>\n",
       "      <th>7554</th>\n",
       "      <th>7555</th>\n",
       "      <th>7556</th>\n",
       "      <th>7557</th>\n",
       "      <th>7558</th>\n",
       "      <th>7559</th>\n",
       "      <th>7560</th>\n",
       "    </tr>\n",
       "  </thead>\n",
       "  <tbody>\n",
       "    <tr>\n",
       "      <th>0.05</th>\n",
       "      <td>1.0</td>\n",
       "      <td>0.992806</td>\n",
       "      <td>0.990810</td>\n",
       "      <td>0.988806</td>\n",
       "      <td>0.986655</td>\n",
       "      <td>0.985754</td>\n",
       "      <td>0.984615</td>\n",
       "      <td>0.984288</td>\n",
       "      <td>0.983212</td>\n",
       "      <td>0.981867</td>\n",
       "      <td>...</td>\n",
       "      <td>27.000831</td>\n",
       "      <td>26.919512</td>\n",
       "      <td>27.033217</td>\n",
       "      <td>27.120498</td>\n",
       "      <td>26.982103</td>\n",
       "      <td>27.030341</td>\n",
       "      <td>27.190576</td>\n",
       "      <td>27.221451</td>\n",
       "      <td>27.136564</td>\n",
       "      <td>27.023931</td>\n",
       "    </tr>\n",
       "    <tr>\n",
       "      <th>0.50</th>\n",
       "      <td>1.0</td>\n",
       "      <td>1.000643</td>\n",
       "      <td>1.001444</td>\n",
       "      <td>1.001880</td>\n",
       "      <td>1.002662</td>\n",
       "      <td>1.003304</td>\n",
       "      <td>1.003144</td>\n",
       "      <td>1.003815</td>\n",
       "      <td>1.004985</td>\n",
       "      <td>1.005677</td>\n",
       "      <td>...</td>\n",
       "      <td>54.134202</td>\n",
       "      <td>54.202926</td>\n",
       "      <td>54.085711</td>\n",
       "      <td>54.244620</td>\n",
       "      <td>54.317425</td>\n",
       "      <td>54.349463</td>\n",
       "      <td>54.397981</td>\n",
       "      <td>54.366586</td>\n",
       "      <td>54.372556</td>\n",
       "      <td>54.379474</td>\n",
       "    </tr>\n",
       "    <tr>\n",
       "      <th>0.95</th>\n",
       "      <td>1.0</td>\n",
       "      <td>1.008612</td>\n",
       "      <td>1.012090</td>\n",
       "      <td>1.015603</td>\n",
       "      <td>1.017030</td>\n",
       "      <td>1.020251</td>\n",
       "      <td>1.022520</td>\n",
       "      <td>1.023908</td>\n",
       "      <td>1.026401</td>\n",
       "      <td>1.028866</td>\n",
       "      <td>...</td>\n",
       "      <td>107.695999</td>\n",
       "      <td>107.168583</td>\n",
       "      <td>107.400232</td>\n",
       "      <td>107.624865</td>\n",
       "      <td>107.644842</td>\n",
       "      <td>107.013475</td>\n",
       "      <td>107.221891</td>\n",
       "      <td>107.533430</td>\n",
       "      <td>107.611878</td>\n",
       "      <td>107.339459</td>\n",
       "    </tr>\n",
       "  </tbody>\n",
       "</table>\n",
       "<p>3 rows × 7561 columns</p>\n",
       "</div>"
      ],
      "text/plain": [
       "      0         1         2         3         4         5         6     \\\n",
       "0.05   1.0  0.992806  0.990810  0.988806  0.986655  0.985754  0.984615   \n",
       "0.50   1.0  1.000643  1.001444  1.001880  1.002662  1.003304  1.003144   \n",
       "0.95   1.0  1.008612  1.012090  1.015603  1.017030  1.020251  1.022520   \n",
       "\n",
       "          7         8         9     ...        7551        7552        7553  \\\n",
       "0.05  0.984288  0.983212  0.981867  ...   27.000831   26.919512   27.033217   \n",
       "0.50  1.003815  1.004985  1.005677  ...   54.134202   54.202926   54.085711   \n",
       "0.95  1.023908  1.026401  1.028866  ...  107.695999  107.168583  107.400232   \n",
       "\n",
       "            7554        7555        7556        7557        7558        7559  \\\n",
       "0.05   27.120498   26.982103   27.030341   27.190576   27.221451   27.136564   \n",
       "0.50   54.244620   54.317425   54.349463   54.397981   54.366586   54.372556   \n",
       "0.95  107.624865  107.644842  107.013475  107.221891  107.533430  107.611878   \n",
       "\n",
       "            7560  \n",
       "0.05   27.023931  \n",
       "0.50   54.379474  \n",
       "0.95  107.339459  \n",
       "\n",
       "[3 rows x 7561 columns]"
      ]
     },
     "execution_count": 708,
     "metadata": {},
     "output_type": "execute_result"
    },
    {
     "data": {
      "image/png": "[encoded data removed]",
      "text/plain": [
       "<Figure size 720x432 with 1 Axes>"
      ]
     },
     "metadata": {
      "needs_background": "light"
     },
     "output_type": "display_data"
    }
   ],
   "source": [
    "interval = monte_carlo.quantile(q=[0.05,0.5,0.95], axis=1)\n",
    "initial_investment_df = pd.DataFrame(interval*20000)\n",
    "\n",
    "ax_5per=(initial_investment_df.iloc[0,:]).plot(title=\"Expected Cumulative Returns for 0.05, median and 90% confidence intervals\", figsize=(10,6))\n",
    "median =(initial_investment_df.iloc[1,:]).plot(ax=ax_5per)\n",
    "ax_90per =(initial_investment_df.iloc[2,:]).plot(ax=ax_5per)\n",
    "\n",
    "ax.legend(['0.05','0.5','.90'])\n",
    "interval.head()"
   ]
  },
  {
   "cell_type": "code",
   "execution_count": null,
   "metadata": {},
   "outputs": [],
   "source": []
  }
 ],
 "metadata": {
  "kernel_info": {
   "name": "dev"
  },
  "kernelspec": {
   "display_name": "Python 3",
   "language": "python",
   "name": "python3"
  },
  "language_info": {
   "codemirror_mode": {
    "name": "ipython",
    "version": 3
   },
   "file_extension": ".py",
   "mimetype": "text/x-python",
   "name": "python",
   "nbconvert_exporter": "python",
   "pygments_lexer": "ipython3",
   "version": "3.7.6"
  },
  "nteract": {
   "version": "0.12.3"
  }
 },
 "nbformat": 4,
 "nbformat_minor": 4
}
